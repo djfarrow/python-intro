{
 "cells": [
  {
   "cell_type": "markdown",
   "metadata": {},
   "source": [
    "# Very, very short introduction to Python"
   ]
  },
  {
   "cell_type": "markdown",
   "metadata": {},
   "source": [
    "## Simple objects and the `print` function"
   ]
  },
  {
   "cell_type": "markdown",
   "metadata": {},
   "source": [
    "This notebook demonstrates some of the basic features of Python, as part of an introductory talk on Python. Let's start off by explaining a basic ingredient of Python, *objects*, by giving some examples "
   ]
  },
  {
   "cell_type": "code",
   "execution_count": null,
   "metadata": {},
   "outputs": [],
   "source": [
    "i = 122 # this defines an integer - a whole number\n",
    "x = 3.2 # this defines a floating point number - a number with a decimal point\n",
    "name = 'Danny' # this defines a string"
   ]
  },
  {
   "cell_type": "markdown",
   "metadata": {},
   "source": [
    "By writing the name of the object, and then a equal sign followed by a value we *define* it. Once we have defined these objects, they are remembered by the Python interpreter and we can use them later. Using the *built-in function* `print` we can output to the screen"
   ]
  },
  {
   "cell_type": "code",
   "execution_count": null,
   "metadata": {
    "scrolled": true
   },
   "outputs": [],
   "source": [
    "print(i)\n",
    "print(x)\n",
    "print(name)"
   ]
  },
  {
   "cell_type": "markdown",
   "metadata": {},
   "source": [
    "*Exercise:* define your own object and `print` it in the box below: "
   ]
  },
  {
   "cell_type": "code",
   "execution_count": null,
   "metadata": {
    "scrolled": true
   },
   "outputs": [],
   "source": [
    "# type your solution below\n"
   ]
  },
  {
   "cell_type": "markdown",
   "metadata": {},
   "source": [
    "## Arithmetic Operations"
   ]
  },
  {
   "cell_type": "markdown",
   "metadata": {},
   "source": [
    "Objects like floating point numbers and integers can have artimetic operations applied to them such as e.g. `+`, `-`, `*`, `/`. For example"
   ]
  },
  {
   "cell_type": "code",
   "execution_count": null,
   "metadata": {
    "scrolled": true
   },
   "outputs": [],
   "source": [
    "j = 1 + 4\n",
    "print(f'j={j}')\n",
    "k = 4*j + 6\n",
    "print(f'k={k}')\n",
    "m = k * j - 1 \n",
    "print(f'm={m}')"
   ]
  },
  {
   "cell_type": "markdown",
   "metadata": {},
   "source": [
    "Where I've used *formatted string literals* to nicely format my print statements. These operators (`+`, `-`, `*`, `/`) can also be applied to other objects, their impact depends on how the object is defined (note that some objects do not support them)."
   ]
  },
  {
   "cell_type": "markdown",
   "metadata": {},
   "source": [
    "## A more complex object: a `list`"
   ]
  },
  {
   "cell_type": "markdown",
   "metadata": {},
   "source": [
    "As well as the three types of object we've already seen, Python has a huge number more. You can even define your own type of object. Let's look an object that can store multiple other objects: a `list`"
   ]
  },
  {
   "cell_type": "code",
   "execution_count": null,
   "metadata": {},
   "outputs": [],
   "source": [
    "my_first_list = [1.0, 2.4, 'hello', x, 12]"
   ]
  },
  {
   "cell_type": "markdown",
   "metadata": {},
   "source": [
    "The `list` object can contain different other types of object, and it is defined with using square brackets `[]`. "
   ]
  },
  {
   "cell_type": "code",
   "execution_count": null,
   "metadata": {},
   "outputs": [],
   "source": [
    "print(my_first_list)"
   ]
  },
  {
   "cell_type": "markdown",
   "metadata": {},
   "source": [
    "## Importing and using packages"
   ]
  },
  {
   "cell_type": "markdown",
   "metadata": {},
   "source": [
    "To carry out operations like computing a mean, it is often easier and faster to use ready made code written previously. A strength of Python is the very large number of libraries of ready made code - these are called *packages*. To use code from a package you first need to `import` the functions and objects you want to use. This\n",
    "is different from the *built-in* functions we have used so far. One way of doing it is like this"
   ]
  },
  {
   "cell_type": "code",
   "execution_count": null,
   "metadata": {},
   "outputs": [],
   "source": [
    "import numpy as np"
   ]
  },
  {
   "cell_type": "markdown",
   "metadata": {},
   "source": [
    "Now the `numpy` functions are available by writing `np.` and the name. Then we can use this ready-made code to evaluate the mean, saving us from having to code it ourselves."
   ]
  },
  {
   "cell_type": "code",
   "execution_count": null,
   "metadata": {},
   "outputs": [],
   "source": [
    "vals = [2.0, 2.0, 4.0, 8.0]\n",
    "print(np.mean(vals))"
   ]
  },
  {
   "cell_type": "markdown",
   "metadata": {},
   "source": [
    "`numpy` has a large number of useful functions and data types. "
   ]
  },
  {
   "cell_type": "markdown",
   "metadata": {},
   "source": [
    "*Exercise:* use the `median` and `std` functions from `numpy` to compute the median and standard deviation of the `vals` list."
   ]
  },
  {
   "cell_type": "code",
   "execution_count": null,
   "metadata": {},
   "outputs": [],
   "source": [
    "# add your answers below\n"
   ]
  },
  {
   "cell_type": "markdown",
   "metadata": {},
   "source": [
    "## Reading in data and plotting it"
   ]
  },
  {
   "cell_type": "markdown",
   "metadata": {},
   "source": [
    "We will now give a more realistic example of using Python, which is a common use case: making a histogram from a set of data. If you downloaded the example data and have it in the same directory as this notebook, you can read it using a `numpy` function like this"
   ]
  },
  {
   "cell_type": "code",
   "execution_count": null,
   "metadata": {},
   "outputs": [],
   "source": [
    "exam_scores = np.loadtxt('example_exam_result_data.txt')"
   ]
  },
  {
   "cell_type": "markdown",
   "metadata": {},
   "source": [
    "To produce plots we can use the package `matplotlib`. In a `jupyter` notebook we can also add the command `%matplotlib inline`, but this line should be omitted in Python code outside of `jupyter`."
   ]
  },
  {
   "cell_type": "code",
   "execution_count": null,
   "metadata": {},
   "outputs": [],
   "source": [
    "%matplotlib inline\n",
    "import matplotlib.pyplot as plt"
   ]
  },
  {
   "cell_type": "markdown",
   "metadata": {},
   "source": [
    "An object called `rcParams` stores the default settings which affect all the plots you produce. Here I will just show how to change a few common settings"
   ]
  },
  {
   "cell_type": "code",
   "execution_count": null,
   "metadata": {},
   "outputs": [],
   "source": [
    "plt.rcParams['xtick.direction'] = 'out'\n",
    "plt.rcParams['ytick.direction'] = 'out'\n",
    "plt.rcParams['xtick.labelsize'] = 9.0\n",
    "plt.rcParams['ytick.labelsize'] = 9.0"
   ]
  },
  {
   "cell_type": "code",
   "execution_count": null,
   "metadata": {},
   "outputs": [],
   "source": [
    "plt.figure(dpi=200, figsize=(2.4,1.4))\n",
    "plt.hist(exam_scores, bins=20)\n",
    "plt.xlabel('Exam score (%)', fontsize=7)\n",
    "plt.ylabel('Number', fontsize=7)\n",
    "plt.savefig('histogram.pdf')"
   ]
  },
  {
   "cell_type": "markdown",
   "metadata": {},
   "source": [
    "*Exercise:* experiment with changing the arguments and settings with the in the code above and see what impact it has on the figure."
   ]
  },
  {
   "cell_type": "code",
   "execution_count": null,
   "metadata": {},
   "outputs": [],
   "source": []
  }
 ],
 "metadata": {
  "kernelspec": {
   "display_name": "Python 3",
   "language": "python",
   "name": "python3"
  },
  "language_info": {
   "codemirror_mode": {
    "name": "ipython",
    "version": 3
   },
   "file_extension": ".py",
   "mimetype": "text/x-python",
   "name": "python",
   "nbconvert_exporter": "python",
   "pygments_lexer": "ipython3",
   "version": "3.6.9"
  }
 },
 "nbformat": 4,
 "nbformat_minor": 4
}
